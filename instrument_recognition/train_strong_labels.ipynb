{
 "cells": [
  {
   "cell_type": "markdown",
   "id": "7d05fe88",
   "metadata": {},
   "source": [
    "# Try training the model using labels that are either 1 or 0, not in between\n",
    " - *not discussed in the paper* since it didn't work at all\n",
    " - we had wondered if the \"confusion\" in the dataset contributed to the BCE loss not properly penalizing guesses that were in between.\n",
    " - only difference between here and the grid search notebooks is basically using `labels = np.round(labels).to(device)` in the train loop (the rounding)\n",
    "\n",
    " "
   ]
  },
  {
   "cell_type": "code",
   "execution_count": 6,
   "id": "5a0d26e8",
   "metadata": {},
   "outputs": [
    {
     "data": {
      "text/plain": [
       "'cuda:0'"
      ]
     },
     "execution_count": 6,
     "metadata": {},
     "output_type": "execute_result"
    }
   ],
   "source": [
    "import numpy as np\n",
    "import IPython.display as ipd\n",
    "import json\n",
    "import glob\n",
    "import time\n",
    "import copy\n",
    "import pickle\n",
    "\n",
    "from torch.utils.data import Dataset, DataLoader\n",
    "import torch.nn.functional as F\n",
    "import torch.nn as nn\n",
    "import torch.optim as optim\n",
    "import torch\n",
    "\n",
    "import matplotlib.pyplot as plt\n",
    "from tqdm import tqdm \n",
    "\n",
    "device = 'cuda:0' if torch.cuda.is_available() else 'cpu'\n",
    "device"
   ]
  },
  {
   "cell_type": "code",
   "execution_count": 7,
   "id": "f6e87bdc",
   "metadata": {},
   "outputs": [
    {
     "name": "stdout",
     "output_type": "stream",
     "text": [
      "['X', 'Y_true', 'Y_mask', 'sample_key']\n"
     ]
    }
   ],
   "source": [
    "with np.load(\"../openmic-2018/openmic-2018.npz\", allow_pickle=True) as data:\n",
    "    files = data.files\n",
    "    print(files)\n",
    "    X = data['X']\n",
    "    Y_true = data['Y_true']\n",
    "    Y_mask = data['Y_mask']\n",
    "    sample_key = data['sample_key']\n",
    "    \n",
    "with open('../openmic-2018/class-map.json') as f:\n",
    "    class_map = json.load(f)\n",
    "    class_map_inv = {v: k for k, v in class_map.items()}\n",
    "    classes = np.array(list(class_map_inv.values()))"
   ]
  },
  {
   "cell_type": "code",
   "execution_count": 54,
   "id": "446654ad",
   "metadata": {},
   "outputs": [],
   "source": [
    "class IRdataset(Dataset):\n",
    "    def __init__(self, instrument='voice', method='concat'):\n",
    "        \n",
    "        # not every sample is annotated for every instrument.\n",
    "        # e.g. for a specific sample nobody might've checked whether or not \n",
    "        # there was voice. When constructing our dataset, we only\n",
    "        # take samples for which the instrument's presence was annotated.\n",
    "        if method == 'concat':\n",
    "            fname_func = fname_to_path_concat\n",
    "            feature_path = \"features2/*.npy\"\n",
    "        elif method == 'upsample':\n",
    "            fname_func = fname_to_path_upsample\n",
    "            feature_path = \"features/*.npy\"\n",
    "\n",
    "        self.mask = Y_mask[:, class_map[instrument]]\n",
    "        self.fnames = np.array([fname_func(fname) for fname in sample_key])\n",
    "        existing_files = glob.glob(feature_path)\n",
    "        fname_exists_mask = np.array([x in existing_files for x in self.fnames])\n",
    "        self.mask = self.mask * fname_exists_mask\n",
    "        \n",
    "        # \n",
    "        self.probabilities = Y_true[self.mask][:,class_map[instrument]].astype('float32')\n",
    "        self.input_files = [np.load(x).astype('float32') for x in self.fnames[self.mask]]\n",
    "        \n",
    "    def __len__(self):\n",
    "        return self.probabilities.shape[0]\n",
    "        # return 100 # for debug\n",
    "    \n",
    "    def __getitem__(self, idx):\n",
    "        return self.input_files[idx], self.probabilities[idx]\n",
    "    \n",
    "    def get_audio(self, idx):\n",
    "        fname = sample_key[self.mask][idx]\n",
    "        path = '../openmic-2018/audio/' + fname[0:3] + '/' + fname + '.ogg'\n",
    "        print(path)\n",
    "        return ipd.Audio(path)"
   ]
  },
  {
   "cell_type": "code",
   "execution_count": 55,
   "id": "9995861a",
   "metadata": {},
   "outputs": [],
   "source": [
    "fname_to_path_concat  = lambda fname: f\"features2/{fname}.npy\"\n",
    "# fname_to_path_upsample = lambda fname: f\"features/{fname}.npy\"\n",
    "\n",
    "def load_dl_dict(instrument='voice', method='concat'):\n",
    "    with open(\"test_sets/\" + method + \"/\" + instrument + \".pkl\", \"rb\") as handle:\n",
    "        dl_dict = pickle.load(handle)\n",
    "    return dl_dict\n",
    "\n",
    "def get_test_dataloader(instrument='voice', method='concat'):\n",
    "    with open(\"test_sets/\" + method + \"/\" + instrument + \".pkl\", \"rb\") as handle:\n",
    "        dl_dict = pickle.load(handle)\n",
    "    test_dl = dl_dict['test']\n",
    "    return test_dl"
   ]
  },
  {
   "cell_type": "code",
   "execution_count": 57,
   "id": "b72f8b7b",
   "metadata": {},
   "outputs": [
    {
     "data": {
      "text/plain": [
       "<BarContainer object of 100 artists>"
      ]
     },
     "execution_count": 57,
     "metadata": {},
     "output_type": "execute_result"
    },
    {
     "data": {
      "image/png": "[encoded data removed]",
      "text/plain": [
       "<Figure size 432x288 with 1 Axes>"
      ]
     },
     "metadata": {
      "needs_background": "light"
     },
     "output_type": "display_data"
    }
   ],
   "source": [
    "dataset = IRdataset('clarinet')\n",
    "plt.hist(dataset.probabilities, bins=100)[2]"
   ]
  },
  {
   "cell_type": "code",
   "execution_count": 60,
   "id": "ec26178c",
   "metadata": {},
   "outputs": [
    {
     "data": {
      "text/plain": [
       "<BarContainer object of 100 artists>"
      ]
     },
     "execution_count": 60,
     "metadata": {},
     "output_type": "execute_result"
    },
    {
     "data": {
      "image/png": "[encoded data removed]",
      "text/plain": [
       "<Figure size 432x288 with 1 Axes>"
      ]
     },
     "metadata": {
      "needs_background": "light"
     },
     "output_type": "display_data"
    }
   ],
   "source": [
    "plt.hist([np.round(y) for x, y in dataset], bins=100)[2]"
   ]
  },
  {
   "cell_type": "markdown",
   "id": "c1ba979c",
   "metadata": {},
   "source": [
    "## try training"
   ]
  },
  {
   "cell_type": "code",
   "execution_count": 41,
   "id": "c74987ab",
   "metadata": {},
   "outputs": [],
   "source": [
    "class BaseModel(nn.Module):\n",
    "    def __init__(self, hidden_sizes=[512], p=.5):\n",
    "        super(BaseModel, self).__init__()\n",
    "        input_size = 4800\n",
    "        self.hidden_sizes = [input_size] + hidden_sizes + [1]\n",
    "        for i in range(1, len(self.hidden_sizes)):\n",
    "            setattr(self, f\"hidden_{i}\", nn.Linear(self.hidden_sizes[i-1], self.hidden_sizes[i]))\n",
    "        # self.lins = [nn.Linear(hidden_sizes[i-1], hidden_sizes[i]) for i in range(1, len(hidden_sizes))]\n",
    "        self.dropout = nn.Dropout(p=p)\n",
    "        \n",
    "    def forward(self, x):\n",
    "        x = self.dropout(x)\n",
    "        for i in range(1, len(self.hidden_sizes)-1):\n",
    "            x = getattr(self, f\"hidden_{i}\")(x)\n",
    "            x = F.relu(x)\n",
    "            x = self.dropout(x)\n",
    "        x = getattr(self, f\"hidden_{len(self.hidden_sizes)-1}\")(x) # output\n",
    "        return x"
   ]
  },
  {
   "cell_type": "code",
   "execution_count": 61,
   "id": "ac215798",
   "metadata": {},
   "outputs": [],
   "source": [
    "# EDITED TO ROUND LABELS!\n",
    "def train_model_classifier(model, dataloaders, criterion, optimizer, num_epochs=25, display=False):\n",
    "    since = time.time()\n",
    "    val_acc_history = []\n",
    "    train_loss_history = []\n",
    "    val_loss_history = []\n",
    "    best_acc = 0.0\n",
    "    best_model_wts = copy.deepcopy(model.state_dict())\n",
    "\n",
    "    iterator = range(num_epochs) if display else tqdm(range(num_epochs))\n",
    "    for epoch in iterator:\n",
    "        if display:\n",
    "            print('Epoch {}/{}'.format(epoch, num_epochs - 1))\n",
    "            print('-' * 10)\n",
    "        # Each epoch has a training and validation phase\n",
    "        for phase in ['train', 'val']:\n",
    "            if phase == 'train':\n",
    "                model.train()  # Set model to training mode\n",
    "            else:\n",
    "                model.eval()   # Set model to evaluate mode\n",
    "            running_loss = 0.0\n",
    "            running_corrects = 0\n",
    "            # Iterate over data.\n",
    "            for inputs, labels in dataloaders[phase]:\n",
    "                inputs = inputs.to(device)\n",
    "                labels = np.round(labels).to(device)\n",
    "                # zero the parameter gradients\n",
    "                optimizer.zero_grad()\n",
    "                # forward\n",
    "                # track history if only in train\n",
    "                with torch.set_grad_enabled(phase == 'train'):\n",
    "                    outputs = model(inputs).flatten()\n",
    "                    loss = criterion(outputs, labels)\n",
    "                    preds = torch.sigmoid(outputs)\n",
    "\n",
    "                    # backward + optimize only if in training phase\n",
    "                    if phase == 'train':\n",
    "                        loss.backward()\n",
    "                        optimizer.step()\n",
    "                # statistics\n",
    "                running_loss += loss.item() * inputs.size(0)\n",
    "                running_corrects += torch.sum(torch.round(preds).int() == torch.round(labels.data).int())\n",
    "            epoch_loss = running_loss / len(dataloaders[phase].dataset)\n",
    "            epoch_acc = running_corrects.double() / len(dataloaders[phase].dataset)\n",
    "            if display:\n",
    "                print('{} Loss: {:.4f} Acc: {:.4f}'.format(phase, epoch_loss, epoch_acc))\n",
    "            \n",
    "            if phase == 'val':\n",
    "                val_acc_history.append(epoch_acc)\n",
    "                val_loss_history.append(epoch_loss)\n",
    "                if best_acc < epoch_acc:\n",
    "                    best_acc = max(epoch_acc, best_acc)\n",
    "                    best_model_wts = copy.deepcopy(model.state_dict())\n",
    "            else:\n",
    "                train_loss_history.append(epoch_loss)\n",
    "\n",
    "    time_elapsed = time.time() - since\n",
    "    print('Training complete in {:.0f}m {:.0f}s'.format(time_elapsed // 60, time_elapsed % 60))\n",
    "    print('Best val Acc: {:4f}'.format(best_acc))\n",
    "    \n",
    "    # load best model weights\n",
    "    model.load_state_dict(best_model_wts)\n",
    "\n",
    "    return model, val_acc_history, train_loss_history, val_loss_history"
   ]
  },
  {
   "cell_type": "code",
   "execution_count": 43,
   "id": "f94ff67b",
   "metadata": {},
   "outputs": [],
   "source": [
    "def he_initialization(m):\n",
    "    \"\"\"\n",
    "    https://stackoverflow.com/questions/49433936/how-to-initialize-weights-in-pytorch\n",
    "    \"\"\"\n",
    "    if isinstance(m, nn.Linear) or isinstance(m, nn.Conv2d):\n",
    "        torch.nn.init.kaiming_uniform_(m.weight)\n",
    "\n",
    "\n",
    "def train_and_display(model, dataloader_dict, num_epochs=100, regularization=1e-4, plot=True):\n",
    "    \"\"\"\n",
    "    run the training using gradient descent and CE loss.\n",
    "    plot validation and test loss, and valiation accuracy\n",
    "    \"\"\"\n",
    "    alpha = 1e-4\n",
    "    # beta  = 0\n",
    "    # regularization = 1e-4\n",
    "    \n",
    "    model = model.to(device)\n",
    "    model.apply(he_initialization)\n",
    "    #optimizer = optim.SGD(model.parameters(), lr=alpha, momentum=beta)\n",
    "    optimizer = optim.Adam(model.parameters(), lr=alpha, weight_decay=regularization)\n",
    "    criterion = torch.nn.BCEWithLogitsLoss()\n",
    "    model, val_acc_history, train_loss_history, val_loss_history = train_model_classifier(model, \n",
    "                                                                                          dataloader_dict,\n",
    "                                                                                          criterion,\n",
    "                                                                                          optimizer,\n",
    "                                                                                          num_epochs)\n",
    "    val_acc_history = [x.cpu() for x in val_acc_history]\n",
    "    \n",
    "    if plot:\n",
    "        fig, ax = plt.subplots()\n",
    "        ax.set_title(\"Train and Validation Loss, Validation accuracy vs. epoch\")\n",
    "        ax.set_xlabel(\"epoch\")\n",
    "        ax.set_ylabel(\"Cross Entropy Loss\")\n",
    "        ax.plot(train_loss_history, label=\"train loss\")\n",
    "        ax.plot(val_loss_history, label=\"validation loss\")\n",
    "        ax.legend(loc='upper left')\n",
    "\n",
    "        ax2 = ax.twinx()\n",
    "        ax2.plot(val_acc_history, color='r', label='validation accuracy')\n",
    "        ax2.set_ylabel('accuracy')\n",
    "        ax2.legend(loc='upper right')\n",
    "        ax2.set_ylim([0, 1.0])\n",
    "    else:\n",
    "        fig = None\n",
    "    return model, fig, np.min(val_loss_history), val_acc_history[np.argmin(val_loss_history)]"
   ]
  },
  {
   "cell_type": "code",
   "execution_count": 50,
   "id": "2230f3ee",
   "metadata": {},
   "outputs": [],
   "source": [
    "def get_f1(instrument, model, dl = None):\n",
    "    # model = models[instrument].to(device)\n",
    "    model.eval()   # Set model to evaluate mode\n",
    "    \n",
    "    if dl is None:\n",
    "        dl = get_test_dataloader(instrument)\n",
    "    true_pos = 0\n",
    "    false_pos = 0\n",
    "    false_neg = 0\n",
    "    for x, y in dl:\n",
    "        x = x.to(device)\n",
    "        outputs = model(x).flatten()\n",
    "        outs = torch.sigmoid(outputs).cpu().detach().numpy()\n",
    "        # print(outs)\n",
    "        preds = np.round(outs).astype('int')\n",
    "        true  = np.round(y.numpy().astype('int'))\n",
    "        true_pos  += np.sum( preds[true==preds]*1.0)\n",
    "        false_pos += np.sum((preds[true!=preds] == 1)*1.0)\n",
    "        false_neg += np.sum((preds[true!=preds] == 0)*1.0)\n",
    "    p = true_pos / (true_pos + false_pos)\n",
    "    r = true_pos / (true_pos + false_neg)\n",
    "    f1 = 2*(p * r)/(p + r)\n",
    "    return f1"
   ]
  },
  {
   "cell_type": "markdown",
   "id": "585f2720",
   "metadata": {},
   "source": [
    " ## eval"
   ]
  },
  {
   "cell_type": "code",
   "execution_count": 62,
   "id": "25552912",
   "metadata": {},
   "outputs": [
    {
     "name": "stderr",
     "output_type": "stream",
     "text": [
      "100%|██████████| 800/800 [00:23<00:00, 33.69it/s]\n"
     ]
    },
    {
     "name": "stdout",
     "output_type": "stream",
     "text": [
      "Training complete in 0m 24s\n",
      "Best val Acc: 0.758910\n"
     ]
    },
    {
     "data": {
      "image/png": "[encoded data removed]",
      "text/plain": [
       "<Figure size 432x288 with 2 Axes>"
      ]
     },
     "metadata": {
      "needs_background": "light"
     },
     "output_type": "display_data"
    }
   ],
   "source": [
    "model=BaseModel()\n",
    "dl_dict = load_dl_dict('clarinet')\n",
    "model, fig, _, _ = train_and_display(model, dl_dict, num_epochs=int(8e2))"
   ]
  },
  {
   "cell_type": "code",
   "execution_count": 63,
   "id": "178a4952",
   "metadata": {},
   "outputs": [
    {
     "data": {
      "text/plain": [
       "0.24675324675324672"
      ]
     },
     "execution_count": 63,
     "metadata": {},
     "output_type": "execute_result"
    }
   ],
   "source": [
    "get_f1('clarinet', model, dl=dl_dict['test'])"
   ]
  },
  {
   "cell_type": "code",
   "execution_count": null,
   "id": "4a385c27",
   "metadata": {},
   "outputs": [],
   "source": []
  }
 ],
 "metadata": {
  "kernelspec": {
   "display_name": "Python 3 (ipykernel)",
   "language": "python",
   "name": "python3"
  },
  "language_info": {
   "codemirror_mode": {
    "name": "ipython",
    "version": 3
   },
   "file_extension": ".py",
   "mimetype": "text/x-python",
   "name": "python",
   "nbconvert_exporter": "python",
   "pygments_lexer": "ipython3",
   "version": "3.9.7"
  }
 },
 "nbformat": 4,
 "nbformat_minor": 5
}
