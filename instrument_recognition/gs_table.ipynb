{
 "cells": [
  {
   "cell_type": "markdown",
   "id": "7666d019",
   "metadata": {},
   "source": [
    "# Generate Grid Search Table\n",
    " - evaluate F1 scores on the test set for both concat and upsample gridsearches\n",
    " - uses pandas dataframe to get a latex output of a table with all the results for the paper"
   ]
  },
  {
   "cell_type": "code",
   "execution_count": 82,
   "id": "17530eef",
   "metadata": {},
   "outputs": [
    {
     "data": {
      "text/plain": [
       "'cuda:0'"
      ]
     },
     "execution_count": 82,
     "metadata": {},
     "output_type": "execute_result"
    }
   ],
   "source": [
    "import numpy as np\n",
    "import IPython.display as ipd\n",
    "import json\n",
    "import glob\n",
    "import time\n",
    "import copy\n",
    "import pickle\n",
    "import re\n",
    "\n",
    "from torch.utils.data import Dataset, DataLoader\n",
    "import torch.nn.functional as F\n",
    "import torch.nn as nn\n",
    "import torch.optim as optim\n",
    "import torch\n",
    "\n",
    "import pandas as pd\n",
    "\n",
    "import matplotlib.pyplot as plt\n",
    "from tqdm import tqdm \n",
    "\n",
    "device = 'cuda:0' if torch.cuda.is_available() else 'cpu'\n",
    "device"
   ]
  },
  {
   "cell_type": "code",
   "execution_count": 136,
   "id": "912df984",
   "metadata": {},
   "outputs": [],
   "source": [
    "# required so that the pickling works\n",
    "\n",
    "class BaseModel(nn.Module):\n",
    "    def __init__(self, hidden_sizes=[512], p=.5):\n",
    "        super(BaseModel, self).__init__()\n",
    "        input_size = 4800\n",
    "        self.hidden_sizes = [input_size] + hidden_sizes + [1]\n",
    "        for i in range(1, len(self.hidden_sizes)):\n",
    "            setattr(self, f\"hidden_{i}\", nn.Linear(self.hidden_sizes[i-1], self.hidden_sizes[i]))\n",
    "        self.dropout = nn.Dropout(p=p)\n",
    "        \n",
    "    def forward(self, x):\n",
    "        x = self.dropout(x)\n",
    "        for i in range(1, len(self.hidden_sizes)-1):\n",
    "            x = getattr(self, f\"hidden_{i}\")(x)\n",
    "            x = F.relu(x)\n",
    "            x = self.dropout(x)\n",
    "        x = getattr(self, f\"hidden_{len(self.hidden_sizes)-1}\")(x) # output\n",
    "        return x"
   ]
  },
  {
   "cell_type": "code",
   "execution_count": 7,
   "id": "cec494e4",
   "metadata": {},
   "outputs": [
    {
     "name": "stdout",
     "output_type": "stream",
     "text": [
      "./gs_output.pkl\r\n",
      "./gs_output_concatenated.pkl\r\n",
      "./gs_output_upsampled.pkl\r\n"
     ]
    }
   ],
   "source": [
    "!find . -maxdepth 1 -iname \"*.pkl\""
   ]
  },
  {
   "cell_type": "code",
   "execution_count": 8,
   "id": "8f81aed1",
   "metadata": {
    "scrolled": true
   },
   "outputs": [
    {
     "name": "stdout",
     "output_type": "stream",
     "text": [
      "test_sets/upsample/piano.pkl\r\n",
      "test_sets/upsample/trumpet.pkl\r\n",
      "test_sets/upsample/banjo.pkl\r\n",
      "test_sets/upsample/guitar.pkl\r\n",
      "test_sets/upsample/mallet_percussion.pkl\r\n",
      "test_sets/upsample/accordion.pkl\r\n",
      "test_sets/upsample/bass.pkl\r\n",
      "test_sets/upsample/organ.pkl\r\n",
      "test_sets/upsample/mandolin.pkl\r\n",
      "test_sets/upsample/violin.pkl\r\n"
     ]
    }
   ],
   "source": [
    "!find test_sets -iname \"*.pkl\" | head"
   ]
  },
  {
   "cell_type": "code",
   "execution_count": 137,
   "id": "ebba80e0",
   "metadata": {},
   "outputs": [
    {
     "name": "stdout",
     "output_type": "stream",
     "text": [
      "['X', 'Y_true', 'Y_mask', 'sample_key']\n"
     ]
    }
   ],
   "source": [
    "# load original openmic data \n",
    "with np.load(\"../openmic-2018/openmic-2018.npz\", allow_pickle=True) as data:\n",
    "    files = data.files\n",
    "    print(files)\n",
    "    X = data['X']\n",
    "    Y_true = data['Y_true']\n",
    "    Y_mask = data['Y_mask']\n",
    "    sample_key = data['sample_key']\n",
    "    \n",
    "# load openmic classes\n",
    "with open('../openmic-2018/class-map.json') as f:\n",
    "    class_map = json.load(f)\n",
    "    class_map_inv = {v: k for k, v in class_map.items()}\n",
    "    classes = np.array(list(class_map_inv.values()))"
   ]
  },
  {
   "cell_type": "code",
   "execution_count": 138,
   "id": "692813f5",
   "metadata": {},
   "outputs": [],
   "source": [
    "# load concatenated gridsearch models and metrics\n",
    "with open(\"gs_output_concatenated.pkl\", 'rb') as handle:\n",
    "    models, losses, val_accs, params = pickle.load(handle)"
   ]
  },
  {
   "cell_type": "code",
   "execution_count": 11,
   "id": "15447212",
   "metadata": {},
   "outputs": [
    {
     "data": {
      "text/plain": [
       "array(['accordion', 'banjo', 'bass', 'cello', 'clarinet', 'cymbals',\n",
       "       'drums', 'flute', 'guitar', 'mallet_percussion', 'mandolin',\n",
       "       'organ', 'piano', 'saxophone', 'synthesizer', 'trombone',\n",
       "       'trumpet', 'ukulele', 'violin', 'voice'], dtype='<U17')"
      ]
     },
     "execution_count": 11,
     "metadata": {},
     "output_type": "execute_result"
    }
   ],
   "source": [
    "classes"
   ]
  },
  {
   "cell_type": "code",
   "execution_count": 90,
   "id": "7d847af1",
   "metadata": {},
   "outputs": [],
   "source": [
    "fname_to_path_concat  = lambda fname: f\"features2/{fname}.npy\"\n",
    "fname_to_path_upsample = lambda fname: f\"features/{fname}.npy\"\n",
    "\n",
    "# required to load from the pickling\n",
    "class IRdataset(Dataset):\n",
    "    def __init__(self, instrument='voice', method='concat'):\n",
    "        \n",
    "        # not every sample is annotated for every instrument.\n",
    "        # e.g. for a specific sample nobody might've checked whether or not \n",
    "        # there was voice. When constructing our dataset, we only\n",
    "        # take samples for which the instrument's presence was annotated.\n",
    "        if method == 'concat':\n",
    "            fname_func = fname_to_path_concat\n",
    "            feature_path = \"features2/*.npy\"\n",
    "        elif method == 'upsample':\n",
    "            fname_func = fname_to_path_upsample\n",
    "            feature_path = \"features/*.npy\"\n",
    "\n",
    "        self.mask = Y_mask[:, class_map[instrument]]\n",
    "        self.fnames = np.array([fname_func(fname) for fname in sample_key])\n",
    "        existing_files = glob.glob(feature_path)\n",
    "        fname_exists_mask = np.array([x in existing_files for x in self.fnames])\n",
    "        self.mask = self.mask * fname_exists_mask\n",
    "        \n",
    "        # \n",
    "        self.probabilities = Y_true[self.mask][:,class_map[instrument]].astype('float32')\n",
    "        self.input_files = [np.load(x).astype('float32') for x in self.fnames[self.mask]]\n",
    "        \n",
    "    def __len__(self):\n",
    "        return self.probabilities.shape[0]\n",
    "        # return 100 # for debug\n",
    "    \n",
    "    def __getitem__(self, idx):\n",
    "        return self.input_files[idx], self.probabilities[idx]\n",
    "    \n",
    "    def get_audio(self, idx):\n",
    "        fname = sample_key[self.mask][idx]\n",
    "        path = '../openmic-2018/audio/' + fname[0:3] + '/' + fname + '.ogg'\n",
    "        print(path)\n",
    "        return ipd.Audio(path)\n",
    "    \n",
    "def get_test_dataloader(instrument='voice', method='concat'):\n",
    "    \"\"\"\n",
    "    Get a test dataset based off the test samples set aside during the original gridsearch.\n",
    "    The test dataloader that is pickled uses weighted random sampling with replacement in order to \n",
    "    deal with imbalanced classes. We create a new loader with the underlying data in order to \n",
    "    get evaluation metrics purely on the test data. \n",
    "    \"\"\"\n",
    "    with open(\"test_sets/\" + method + \"/\" + instrument + \".pkl\", \"rb\") as handle:\n",
    "        dl_dict = pickle.load(handle)\n",
    "    test_dataset = dl_dict['test'].dataset # get dataset, new dataloader where we don't weight\n",
    "    test_dl = DataLoader(test_dataset, batch_size=256)\n",
    "    return test_dl"
   ]
  },
  {
   "cell_type": "code",
   "execution_count": 91,
   "id": "125d872d",
   "metadata": {},
   "outputs": [
    {
     "data": {
      "text/plain": [
       "<torch.utils.data.dataloader.DataLoader at 0x7f8cfa46dca0>"
      ]
     },
     "execution_count": 91,
     "metadata": {},
     "output_type": "execute_result"
    }
   ],
   "source": [
    "get_test_dataloader('voice')"
   ]
  },
  {
   "cell_type": "code",
   "execution_count": 139,
   "id": "8598b5af",
   "metadata": {},
   "outputs": [],
   "source": [
    "def get_f1(instrument, models, method='concat'):\n",
    "    \"\"\"\n",
    "    Given an instrument (string), dictionary of models, and the string describing which gridsearch to query\n",
    "    (e.g. the one over features of concatenated input data or upsampled input data, 'concat' or 'upsample'\n",
    "    respectively), compute an F1 score using the test data.\n",
    "    \"\"\"\n",
    "    model = models[instrument].to(device)\n",
    "    model.eval()   # Set model to evaluate mode\n",
    "    \n",
    "    dl = get_test_dataloader(instrument=instrument, method=method)\n",
    "    true_pos = 0\n",
    "    false_pos = 0\n",
    "    false_neg = 0\n",
    "    for x, y in dl:\n",
    "        x = x.to(device)\n",
    "        outputs = model(x).flatten()\n",
    "        outs = torch.sigmoid(outputs).cpu().detach().numpy()\n",
    "        # print(outs)\n",
    "        preds = np.round(outs).astype('int')\n",
    "        true  = np.round(y.numpy().astype('int'))\n",
    "        true_pos  += np.sum( preds[true==preds]*1.0)\n",
    "        false_pos += np.sum((preds[true!=preds] == 1)*1.0)\n",
    "        false_neg += np.sum((preds[true!=preds] == 0)*1.0)\n",
    "    p = true_pos / (true_pos + false_pos + 1e-9)\n",
    "    r = true_pos / (true_pos + false_neg + 1e-9)\n",
    "    f1 = 2*(p * r)/(p + r + 1e-9)\n",
    "    return f1"
   ]
  },
  {
   "cell_type": "markdown",
   "id": "6f78dd28",
   "metadata": {},
   "source": [
    "## Construct DF and output in LaTeX"
   ]
  },
  {
   "cell_type": "code",
   "execution_count": 115,
   "id": "a3f41dd4",
   "metadata": {},
   "outputs": [],
   "source": [
    "# Construct DF\n",
    "df = pd.DataFrame(classes, columns=[\"Instrument\"])\n",
    "df[\"Val. Loss\"] = [f\"{x:.3f}\" for x in losses.values()]\n",
    "df[\"Val. Acc.\"] = [f\"{x.numpy():.3f}\" for x in val_accs.values()]\n",
    "parameters = list(zip(*list(params.values())))\n",
    "df[\"H. Layers\"] = [str(x) for x in parameters[0]]\n",
    "df[\"Reg.\"] = [f\"1e{int(np.log10(x))}\" if x > 0 else 0 for x in parameters[1]]\n",
    "df[\"Dropout\"] = parameters[2]\n",
    "## \n",
    "df[\"Test F1\"] = [f\"{get_f1(instrument, models):.3f}\" for instrument in classes]\n",
    "df_sorted = df.sort_values(\"Test F1\", ascending=False)"
   ]
  },
  {
   "cell_type": "code",
   "execution_count": 116,
   "id": "aeff182f",
   "metadata": {},
   "outputs": [
    {
     "name": "stdout",
     "output_type": "stream",
     "text": [
      "\\begin{tabular}{lllllrl}\n",
      "\\toprule\n",
      " Instrument & Val. Loss & Val. Acc. & H. Layers & Reg. & Dropout & Test F1 \\\\\n",
      "\\midrule\n",
      " piano & 0.111 & 0.968 & [512] & 1e-4 & 0.25 & 0.924 \\\\\n",
      " guitar & 0.168 & 0.964 & [512] & 1e-4 & 0.75 & 0.919 \\\\\n",
      " voice & 0.104 & 0.974 & [512] & 1e-4 & 0.50 & 0.915 \\\\\n",
      " drums & 0.125 & 0.963 & [512] & 1e-3 & 0.25 & 0.912 \\\\\n",
      " synthesizer & 0.198 & 0.956 & [] & 1e-4 & 0.25 & 0.886 \\\\\n",
      " cymbals & 0.180 & 0.954 & [] & 1e-3 & 0.50 & 0.864 \\\\\n",
      " violin & 0.264 & 0.897 & [] & 1e-4 & 0.50 & 0.762 \\\\\n",
      " saxophone & 0.289 & 0.907 & [] & 0 & 0.25 & 0.681 \\\\\n",
      " trumpet & 0.334 & 0.902 & [] & 1e-4 & 0.75 & 0.641 \\\\\n",
      " cello & 0.328 & 0.902 & [] & 1e-3 & 0.75 & 0.608 \\\\\n",
      " organ & 0.354 & 0.865 & [] & 0 & 0.75 & 0.604 \\\\\n",
      "mallet\\_percussion & 0.322 & 0.867 & [] & 0 & 0.75 & 0.584 \\\\\n",
      " trombone & 0.379 & 0.848 & [] & 1e-3 & 0.75 & 0.531 \\\\\n",
      " flute & 0.466 & 0.772 & [] & 1e-3 & 0.25 & 0.505 \\\\\n",
      " banjo & 0.377 & 0.856 & [] & 1e-3 & 0.25 & 0.494 \\\\\n",
      " bass & 0.366 & 0.857 & [] & 1e-3 & 0.50 & 0.477 \\\\\n",
      " accordion & 0.381 & 0.850 & [512, 256] & 1e-3 & 0.25 & 0.476 \\\\\n",
      " mandolin & 0.451 & 0.809 & [] & 1e-3 & 0.25 & 0.445 \\\\\n",
      " ukulele & 0.405 & 0.816 & [512, 256] & 1e-4 & 0.25 & 0.437 \\\\\n",
      " clarinet & 0.464 & 0.776 & [] & 1e-4 & 0.25 & 0.162 \\\\\n",
      "\\bottomrule\n",
      "\\end{tabular}\n",
      "\n"
     ]
    }
   ],
   "source": [
    "print(re.sub(\"( +)\", \" \", df_sorted.to_latex(index=False))) # get rid of extra ugly whitesace "
   ]
  },
  {
   "cell_type": "code",
   "execution_count": 117,
   "id": "a32d113a",
   "metadata": {},
   "outputs": [
    {
     "data": {
      "text/html": [
       "<div>\n",
       "<style scoped>\n",
       "    .dataframe tbody tr th:only-of-type {\n",
       "        vertical-align: middle;\n",
       "    }\n",
       "\n",
       "    .dataframe tbody tr th {\n",
       "        vertical-align: top;\n",
       "    }\n",
       "\n",
       "    .dataframe thead th {\n",
       "        text-align: right;\n",
       "    }\n",
       "</style>\n",
       "<table border=\"1\" class=\"dataframe\">\n",
       "  <thead>\n",
       "    <tr style=\"text-align: right;\">\n",
       "      <th></th>\n",
       "      <th>Instrument</th>\n",
       "      <th>Val. Loss</th>\n",
       "      <th>Val. Acc.</th>\n",
       "      <th>H. Layers</th>\n",
       "      <th>Reg.</th>\n",
       "      <th>Dropout</th>\n",
       "      <th>Test F1</th>\n",
       "    </tr>\n",
       "  </thead>\n",
       "  <tbody>\n",
       "    <tr>\n",
       "      <th>12</th>\n",
       "      <td>piano</td>\n",
       "      <td>0.111</td>\n",
       "      <td>0.968</td>\n",
       "      <td>[512]</td>\n",
       "      <td>1e-4</td>\n",
       "      <td>0.25</td>\n",
       "      <td>0.924</td>\n",
       "    </tr>\n",
       "    <tr>\n",
       "      <th>8</th>\n",
       "      <td>guitar</td>\n",
       "      <td>0.168</td>\n",
       "      <td>0.964</td>\n",
       "      <td>[512]</td>\n",
       "      <td>1e-4</td>\n",
       "      <td>0.75</td>\n",
       "      <td>0.919</td>\n",
       "    </tr>\n",
       "    <tr>\n",
       "      <th>19</th>\n",
       "      <td>voice</td>\n",
       "      <td>0.104</td>\n",
       "      <td>0.974</td>\n",
       "      <td>[512]</td>\n",
       "      <td>1e-4</td>\n",
       "      <td>0.50</td>\n",
       "      <td>0.915</td>\n",
       "    </tr>\n",
       "    <tr>\n",
       "      <th>6</th>\n",
       "      <td>drums</td>\n",
       "      <td>0.125</td>\n",
       "      <td>0.963</td>\n",
       "      <td>[512]</td>\n",
       "      <td>1e-3</td>\n",
       "      <td>0.25</td>\n",
       "      <td>0.912</td>\n",
       "    </tr>\n",
       "    <tr>\n",
       "      <th>14</th>\n",
       "      <td>synthesizer</td>\n",
       "      <td>0.198</td>\n",
       "      <td>0.956</td>\n",
       "      <td>[]</td>\n",
       "      <td>1e-4</td>\n",
       "      <td>0.25</td>\n",
       "      <td>0.886</td>\n",
       "    </tr>\n",
       "    <tr>\n",
       "      <th>5</th>\n",
       "      <td>cymbals</td>\n",
       "      <td>0.180</td>\n",
       "      <td>0.954</td>\n",
       "      <td>[]</td>\n",
       "      <td>1e-3</td>\n",
       "      <td>0.50</td>\n",
       "      <td>0.864</td>\n",
       "    </tr>\n",
       "    <tr>\n",
       "      <th>18</th>\n",
       "      <td>violin</td>\n",
       "      <td>0.264</td>\n",
       "      <td>0.897</td>\n",
       "      <td>[]</td>\n",
       "      <td>1e-4</td>\n",
       "      <td>0.50</td>\n",
       "      <td>0.762</td>\n",
       "    </tr>\n",
       "    <tr>\n",
       "      <th>13</th>\n",
       "      <td>saxophone</td>\n",
       "      <td>0.289</td>\n",
       "      <td>0.907</td>\n",
       "      <td>[]</td>\n",
       "      <td>0</td>\n",
       "      <td>0.25</td>\n",
       "      <td>0.681</td>\n",
       "    </tr>\n",
       "    <tr>\n",
       "      <th>16</th>\n",
       "      <td>trumpet</td>\n",
       "      <td>0.334</td>\n",
       "      <td>0.902</td>\n",
       "      <td>[]</td>\n",
       "      <td>1e-4</td>\n",
       "      <td>0.75</td>\n",
       "      <td>0.641</td>\n",
       "    </tr>\n",
       "    <tr>\n",
       "      <th>3</th>\n",
       "      <td>cello</td>\n",
       "      <td>0.328</td>\n",
       "      <td>0.902</td>\n",
       "      <td>[]</td>\n",
       "      <td>1e-3</td>\n",
       "      <td>0.75</td>\n",
       "      <td>0.608</td>\n",
       "    </tr>\n",
       "    <tr>\n",
       "      <th>11</th>\n",
       "      <td>organ</td>\n",
       "      <td>0.354</td>\n",
       "      <td>0.865</td>\n",
       "      <td>[]</td>\n",
       "      <td>0</td>\n",
       "      <td>0.75</td>\n",
       "      <td>0.604</td>\n",
       "    </tr>\n",
       "    <tr>\n",
       "      <th>9</th>\n",
       "      <td>mallet_percussion</td>\n",
       "      <td>0.322</td>\n",
       "      <td>0.867</td>\n",
       "      <td>[]</td>\n",
       "      <td>0</td>\n",
       "      <td>0.75</td>\n",
       "      <td>0.584</td>\n",
       "    </tr>\n",
       "    <tr>\n",
       "      <th>15</th>\n",
       "      <td>trombone</td>\n",
       "      <td>0.379</td>\n",
       "      <td>0.848</td>\n",
       "      <td>[]</td>\n",
       "      <td>1e-3</td>\n",
       "      <td>0.75</td>\n",
       "      <td>0.531</td>\n",
       "    </tr>\n",
       "    <tr>\n",
       "      <th>7</th>\n",
       "      <td>flute</td>\n",
       "      <td>0.466</td>\n",
       "      <td>0.772</td>\n",
       "      <td>[]</td>\n",
       "      <td>1e-3</td>\n",
       "      <td>0.25</td>\n",
       "      <td>0.505</td>\n",
       "    </tr>\n",
       "    <tr>\n",
       "      <th>1</th>\n",
       "      <td>banjo</td>\n",
       "      <td>0.377</td>\n",
       "      <td>0.856</td>\n",
       "      <td>[]</td>\n",
       "      <td>1e-3</td>\n",
       "      <td>0.25</td>\n",
       "      <td>0.494</td>\n",
       "    </tr>\n",
       "    <tr>\n",
       "      <th>2</th>\n",
       "      <td>bass</td>\n",
       "      <td>0.366</td>\n",
       "      <td>0.857</td>\n",
       "      <td>[]</td>\n",
       "      <td>1e-3</td>\n",
       "      <td>0.50</td>\n",
       "      <td>0.477</td>\n",
       "    </tr>\n",
       "    <tr>\n",
       "      <th>0</th>\n",
       "      <td>accordion</td>\n",
       "      <td>0.381</td>\n",
       "      <td>0.850</td>\n",
       "      <td>[512, 256]</td>\n",
       "      <td>1e-3</td>\n",
       "      <td>0.25</td>\n",
       "      <td>0.476</td>\n",
       "    </tr>\n",
       "    <tr>\n",
       "      <th>10</th>\n",
       "      <td>mandolin</td>\n",
       "      <td>0.451</td>\n",
       "      <td>0.809</td>\n",
       "      <td>[]</td>\n",
       "      <td>1e-3</td>\n",
       "      <td>0.25</td>\n",
       "      <td>0.445</td>\n",
       "    </tr>\n",
       "    <tr>\n",
       "      <th>17</th>\n",
       "      <td>ukulele</td>\n",
       "      <td>0.405</td>\n",
       "      <td>0.816</td>\n",
       "      <td>[512, 256]</td>\n",
       "      <td>1e-4</td>\n",
       "      <td>0.25</td>\n",
       "      <td>0.437</td>\n",
       "    </tr>\n",
       "    <tr>\n",
       "      <th>4</th>\n",
       "      <td>clarinet</td>\n",
       "      <td>0.464</td>\n",
       "      <td>0.776</td>\n",
       "      <td>[]</td>\n",
       "      <td>1e-4</td>\n",
       "      <td>0.25</td>\n",
       "      <td>0.162</td>\n",
       "    </tr>\n",
       "  </tbody>\n",
       "</table>\n",
       "</div>"
      ],
      "text/plain": [
       "           Instrument Val. Loss Val. Acc.   H. Layers  Reg.  Dropout Test F1\n",
       "12              piano     0.111     0.968       [512]  1e-4     0.25   0.924\n",
       "8              guitar     0.168     0.964       [512]  1e-4     0.75   0.919\n",
       "19              voice     0.104     0.974       [512]  1e-4     0.50   0.915\n",
       "6               drums     0.125     0.963       [512]  1e-3     0.25   0.912\n",
       "14        synthesizer     0.198     0.956          []  1e-4     0.25   0.886\n",
       "5             cymbals     0.180     0.954          []  1e-3     0.50   0.864\n",
       "18             violin     0.264     0.897          []  1e-4     0.50   0.762\n",
       "13          saxophone     0.289     0.907          []     0     0.25   0.681\n",
       "16            trumpet     0.334     0.902          []  1e-4     0.75   0.641\n",
       "3               cello     0.328     0.902          []  1e-3     0.75   0.608\n",
       "11              organ     0.354     0.865          []     0     0.75   0.604\n",
       "9   mallet_percussion     0.322     0.867          []     0     0.75   0.584\n",
       "15           trombone     0.379     0.848          []  1e-3     0.75   0.531\n",
       "7               flute     0.466     0.772          []  1e-3     0.25   0.505\n",
       "1               banjo     0.377     0.856          []  1e-3     0.25   0.494\n",
       "2                bass     0.366     0.857          []  1e-3     0.50   0.477\n",
       "0           accordion     0.381     0.850  [512, 256]  1e-3     0.25   0.476\n",
       "10           mandolin     0.451     0.809          []  1e-3     0.25   0.445\n",
       "17            ukulele     0.405     0.816  [512, 256]  1e-4     0.25   0.437\n",
       "4            clarinet     0.464     0.776          []  1e-4     0.25   0.162"
      ]
     },
     "execution_count": 117,
     "metadata": {},
     "output_type": "execute_result"
    }
   ],
   "source": [
    "df_sorted"
   ]
  },
  {
   "cell_type": "markdown",
   "id": "0dd8a93c",
   "metadata": {},
   "source": [
    "## compute % improvement -- concat vs upsample"
   ]
  },
  {
   "cell_type": "code",
   "execution_count": 121,
   "id": "b4c93675",
   "metadata": {},
   "outputs": [],
   "source": [
    "with open(\"gs_output_upsampled.pkl\", 'rb') as handle:\n",
    "    umodels, ulosses, uval_accs, uparams = pickle.load(handle)"
   ]
  },
  {
   "cell_type": "code",
   "execution_count": 128,
   "id": "caf6373a",
   "metadata": {},
   "outputs": [],
   "source": [
    "concat_f1   = np.array([get_f1(instrument,  models, method='concat')   for instrument in classes])\n",
    "upsample_f1 = np.array([get_f1(instrument, umodels, method='upsample') for instrument in classes])"
   ]
  },
  {
   "cell_type": "code",
   "execution_count": 129,
   "id": "667ccdb1",
   "metadata": {},
   "outputs": [
    {
     "data": {
      "text/plain": [
       "array([0.47567568, 0.49382716, 0.47727273, 0.60769231, 0.16161616,\n",
       "       0.86448598, 0.91150442, 0.50515464, 0.9187935 , 0.584     ,\n",
       "       0.44534413, 0.6039604 , 0.92376682, 0.68062827, 0.88613861,\n",
       "       0.53125   , 0.64094955, 0.43686007, 0.76237624, 0.91534391])"
      ]
     },
     "execution_count": 129,
     "metadata": {},
     "output_type": "execute_result"
    }
   ],
   "source": [
    "concat_f1"
   ]
  },
  {
   "cell_type": "code",
   "execution_count": 130,
   "id": "e93a2c57",
   "metadata": {},
   "outputs": [
    {
     "data": {
      "text/plain": [
       "array([0.40223464, 0.45849802, 0.41545894, 0.45210728, 0.17708333,\n",
       "       0.796875  , 0.86893204, 0.47368421, 0.8716707 , 0.6       ,\n",
       "       0.43478261, 0.60103627, 0.9044289 , 0.66329114, 0.85714286,\n",
       "       0.46153846, 0.57541899, 0.41201717, 0.71755725, 0.89502762])"
      ]
     },
     "execution_count": 130,
     "metadata": {},
     "output_type": "execute_result"
    }
   ],
   "source": [
    "upsample_f1"
   ]
  },
  {
   "cell_type": "code",
   "execution_count": 133,
   "id": "dc9056cb",
   "metadata": {},
   "outputs": [
    {
     "data": {
      "text/plain": [
       "7.06882456280563"
      ]
     },
     "execution_count": 133,
     "metadata": {},
     "output_type": "execute_result"
    }
   ],
   "source": [
    "np.mean((concat_f1 - upsample_f1) / upsample_f1) * 100"
   ]
  },
  {
   "cell_type": "code",
   "execution_count": 135,
   "id": "68105135",
   "metadata": {},
   "outputs": [
    {
     "data": {
      "text/plain": [
       "3.9392757231204696"
      ]
     },
     "execution_count": 135,
     "metadata": {},
     "output_type": "execute_result"
    }
   ],
   "source": [
    "np.mean(concat_f1 - upsample_f1) * 100"
   ]
  },
  {
   "cell_type": "code",
   "execution_count": null,
   "id": "debae401",
   "metadata": {},
   "outputs": [],
   "source": []
  }
 ],
 "metadata": {
  "kernelspec": {
   "display_name": "Python 3 (ipykernel)",
   "language": "python",
   "name": "python3"
  },
  "language_info": {
   "codemirror_mode": {
    "name": "ipython",
    "version": 3
   },
   "file_extension": ".py",
   "mimetype": "text/x-python",
   "name": "python",
   "nbconvert_exporter": "python",
   "pygments_lexer": "ipython3",
   "version": "3.9.7"
  }
 },
 "nbformat": 4,
 "nbformat_minor": 5
}
